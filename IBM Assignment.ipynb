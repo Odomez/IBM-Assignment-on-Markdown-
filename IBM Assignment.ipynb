{
 "cells": [
  {
   "cell_type": "markdown",
   "id": "9398726b-34d3-424a-ba19-38ba09d71ff9",
   "metadata": {
    "tags": []
   },
   "source": [
    "\n",
    "# My jupyter Notebook on IBM Watson Studio\n"
   ]
  },
  {
   "cell_type": "markdown",
   "id": "e8ede981-e9c6-4030-9938-3f151865ad62",
   "metadata": {},
   "source": [
    " **MCBEN MEZUENKWA O'ODOH**  \n",
    "   *Senior Data Scientist \n"
   ]
  },
  {
   "cell_type": "markdown",
   "id": "bd4e2c09-df5d-461a-9f2d-f83af32da62e",
   "metadata": {},
   "source": [
    "*i am interested in Data Science as data in itself is the ultimate factual truth.*\n",
    "\n",
    "*Data science will give me an opportunity to actually do some work ill enjoy.*"
   ]
  },
  {
   "cell_type": "markdown",
   "id": "4037f0b0-7f04-46c4-80ef-3e971318d192",
   "metadata": {},
   "source": [
    "### My code below will print out 'hello world'"
   ]
  },
  {
   "cell_type": "code",
   "execution_count": 4,
   "id": "31a96bfa-07b7-4c2b-b955-084b0d9cff51",
   "metadata": {},
   "outputs": [
    {
     "name": "stdout",
     "output_type": "stream",
     "text": [
      "Hello World\n"
     ]
    }
   ],
   "source": [
    "print('Hello World')"
   ]
  },
  {
   "cell_type": "markdown",
   "id": "c7106243-84b8-4142-a804-7ab708d48338",
   "metadata": {},
   "source": [
    ">Some of the things i enjoy doing in my spare time includes:\n",
    "* Reading\n",
    "* Swimming \n",
    "* Traveling "
   ]
  },
  {
   "cell_type": "code",
   "execution_count": null,
   "id": "4317a857-6555-4851-816a-784f1cfa9e2f",
   "metadata": {},
   "outputs": [],
   "source": []
  }
 ],
 "metadata": {
  "kernelspec": {
   "display_name": "Python",
   "language": "python",
   "name": "conda-env-python-py"
  },
  "language_info": {
   "codemirror_mode": {
    "name": "ipython",
    "version": 3
   },
   "file_extension": ".py",
   "mimetype": "text/x-python",
   "name": "python",
   "nbconvert_exporter": "python",
   "pygments_lexer": "ipython3",
   "version": "3.7.12"
  }
 },
 "nbformat": 4,
 "nbformat_minor": 5
}
